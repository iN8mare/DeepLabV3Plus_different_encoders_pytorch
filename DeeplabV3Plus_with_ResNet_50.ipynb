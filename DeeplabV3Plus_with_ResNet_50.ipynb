{
  "nbformat": 4,
  "nbformat_minor": 0,
  "metadata": {
    "colab": {
      "provenance": [],
      "authorship_tag": "ABX9TyPAIVaas6ptcbmtA+kozEXX",
      "include_colab_link": true
    },
    "kernelspec": {
      "name": "python3",
      "display_name": "Python 3"
    },
    "language_info": {
      "name": "python"
    }
  },
  "cells": [
    {
      "cell_type": "markdown",
      "metadata": {
        "id": "view-in-github",
        "colab_type": "text"
      },
      "source": [
        "<a href=\"https://colab.research.google.com/github/iN8mare/DeepLabV3Plus_different_encoders_pytorch/blob/main/DeeplabV3Plus_with_ResNet_50.ipynb\" target=\"_parent\"><img src=\"https://colab.research.google.com/assets/colab-badge.svg\" alt=\"Open In Colab\"/></a>"
      ]
    },
    {
      "cell_type": "code",
      "source": [
        "import torch\n",
        "import torchvision\n",
        "import torch.nn as nn\n",
        "from torch.nn import Conv2d, BatchNorm2d, ReLU, AvgPool2d, UpsamplingBilinear2d, Sigmoid\n",
        "from PIL import Image\n",
        "from torchvision import transforms\n",
        "import torchsummary"
      ],
      "metadata": {
        "id": "vP3BvsFx49M1"
      },
      "execution_count": 1,
      "outputs": []
    },
    {
      "cell_type": "code",
      "source": [
        "ENCODERS = {\n",
        "    \"ResNet 50\" : torchvision.models.resnet50(weights=torchvision.models.ResNet50_Weights.IMAGENET1K_V2),\n",
        "}\n",
        "\n",
        "INPUT_SHAPE = (1, 3, 256, 256)"
      ],
      "metadata": {
        "id": "PTwMW_NL3LaP"
      },
      "execution_count": 30,
      "outputs": []
    },
    {
      "cell_type": "code",
      "execution_count": 39,
      "metadata": {
        "id": "6m3EhEqcyY8n"
      },
      "outputs": [],
      "source": [
        "class DeepLabV3Plus(nn.Module):\n",
        "    def __init__(self, pretrained_encoder = 'ResNet 50'):\n",
        "        super().__init__()\n",
        "\n",
        "        self.features = {}\n",
        "        self.encoder = ENCODERS[pretrained_encoder]\n",
        "        # print([n for n, _ in self.encoder.named_children()])\n",
        "\n",
        "\n",
        "    def get_features(self, name):\n",
        "        def hook(model, input, output):\n",
        "            self.features[name] = output.detach()\n",
        "        return hook\n",
        "\n",
        "\n",
        "    def create_encoder(self, image_features):\n",
        "        '''\n",
        "        Creates the entire encoder of our model\n",
        "        image_features : Tensor -> The high level features extracted via hooks from EfficientNet B6\n",
        "        '''\n",
        "        y_1 = Conv2d(image_features.shape[1], 256, kernel_size = 1, padding = 'same', dilation = 1, bias = False)(image_features)\n",
        "        y_1 = BatchNorm2d(256)(y_1)\n",
        "        y_1 = ReLU(inplace=True)(y_1)\n",
        "        # print(y_1.shape)\n",
        "\n",
        "        y_6 = Conv2d(image_features.shape[1], 256, kernel_size = 3, padding = 'same', dilation = 6, bias = False)(image_features)\n",
        "        y_6 = BatchNorm2d(256)(y_6)\n",
        "        y_6 = ReLU(inplace=True)(y_6)\n",
        "        # print(y_6.shape)\n",
        "\n",
        "        y_12 = Conv2d(image_features.shape[1], 256, kernel_size = 3, padding = 'same', dilation = 12, bias = False)(image_features)\n",
        "        y_12 = BatchNorm2d(256)(y_12)\n",
        "        y_12 = ReLU(inplace=True)(y_12)\n",
        "        # print(y_12.shape)\n",
        "\n",
        "        y_18 = Conv2d(image_features.shape[1], 256, kernel_size = 3, padding = 'same', dilation = 18, bias = False)(image_features)\n",
        "        y_18 = BatchNorm2d(256)(y_18)\n",
        "        y_18 = ReLU(inplace=True)(y_18)\n",
        "        # print(y_18.shape)\n",
        "\n",
        "        y_pool = AvgPool2d(kernel_size = (image_features.shape[2], image_features.shape[3]))(image_features)\n",
        "        y_pool = Conv2d(image_features.shape[1], 256, kernel_size = 1, padding = 'same', dilation = 1, bias = False)(y_pool)\n",
        "        y_pool = ReLU(inplace=True)(y_pool)\n",
        "        y_pool = UpsamplingBilinear2d((image_features.shape[2], image_features.shape[3]))(y_pool)\n",
        "        # print(y_pool.shape)\n",
        "\n",
        "        y_concatenated = torch.cat([y_1, y_6, y_12, y_18, y_pool], dim=1)\n",
        "        # print(y_concatenated.shape)\n",
        "\n",
        "        y_concatenated = Conv2d(y_concatenated.shape[1], 256, kernel_size = 1, padding = 'same', dilation = 1, bias = False)(y_concatenated)\n",
        "        y_concatenated = BatchNorm2d(256)(y_concatenated)\n",
        "        y_concatenated = ReLU(inplace=True)(y_concatenated)\n",
        "        y_concatenated = UpsamplingBilinear2d((y_concatenated.shape[2]*4, y_concatenated.shape[3]*4))(y_concatenated)\n",
        "        # print(y_concatenated.shape)\n",
        "\n",
        "        return y_concatenated\n",
        "\n",
        "\n",
        "    def create_decoder(self, low_features, encoder_output):\n",
        "        '''\n",
        "        Creates the decoder part of our model.\n",
        "        low features : Tensor -> the low level features extracted via hooks from EfficientNet B6\n",
        "        encoder_output : Tensor -> will be concatenated with low level features (refer diagram in README)\n",
        "        '''\n",
        "        # print(\"encoder\")\n",
        "\n",
        "        x = Conv2d(low_features.shape[1], 128, kernel_size = 1, padding = 'same', dilation = 1, bias = False)(low_features)\n",
        "        x = BatchNorm2d(128)(x)\n",
        "        x = ReLU(inplace=True)(x)\n",
        "        # print(x.shape)\n",
        "\n",
        "        y_concat = torch.cat([x, encoder_output], dim=1)\n",
        "        # print(y_concat.shape)\n",
        "\n",
        "        x = Conv2d(y_concat.shape[1], 256, kernel_size = 3, padding = 'same', dilation = 1, bias = False)(y_concat)\n",
        "        x = BatchNorm2d(256)(x)\n",
        "        x = ReLU(inplace=True)(x)\n",
        "        # print(x.shape)\n",
        "\n",
        "        x = UpsamplingBilinear2d((x.shape[2]*4, x.shape[3]*4))(x)\n",
        "        x = Conv2d(x.shape[1], 1, kernel_size = 1, padding = 'same', dilation = 1, bias = False)(x)\n",
        "        x = Sigmoid()(x)\n",
        "        # print(x.shape)\n",
        "\n",
        "        return x\n",
        "\n",
        "\n",
        "    def forward(self, input):\n",
        "        self.encoder.layer3[2].register_forward_hook(self.get_features('deep_features')) # Hook to extract high level features\n",
        "        self.encoder.layer1[2].register_forward_hook(self.get_features('low_features'))  # Hook to extract low level features\n",
        "        self.encoder.layer1[2].register_forward_hook(self.get_features('low_features'))\n",
        "        self.encoder(input)\n",
        "        encoder_output = self.create_encoder(self.features['deep_features'])\n",
        "        final_output = self.create_decoder(self.features['low_features'], encoder_output)\n",
        "        return final_output"
      ]
    },
    {
      "cell_type": "code",
      "source": [
        "a = DeepLabV3Plus('ResNet 50')\n",
        "print(a(torch.randn(INPUT_SHAPE))) # providing a random tensor of INPUT_SHAPE"
      ],
      "metadata": {
        "colab": {
          "base_uri": "https://localhost:8080/"
        },
        "id": "NZ4Tn0CC3oaf",
        "outputId": "1a8ce0ee-336f-4705-c2e6-02f4df008a72"
      },
      "execution_count": 37,
      "outputs": [
        {
          "output_type": "stream",
          "name": "stdout",
          "text": [
            "tensor([[[[0.7045, 0.6651, 0.6234,  ..., 0.6815, 0.6259, 0.5667],\n",
            "          [0.7425, 0.7026, 0.6594,  ..., 0.6505, 0.5967, 0.5405],\n",
            "          [0.7772, 0.7376, 0.6937,  ..., 0.6181, 0.5668, 0.5140],\n",
            "          ...,\n",
            "          [0.6366, 0.6278, 0.6190,  ..., 0.6237, 0.6024, 0.5807],\n",
            "          [0.6328, 0.6235, 0.6141,  ..., 0.6370, 0.6250, 0.6129],\n",
            "          [0.6290, 0.6192, 0.6093,  ..., 0.6501, 0.6471, 0.6441]]]],\n",
            "       grad_fn=<SigmoidBackward0>)\n"
          ]
        }
      ]
    },
    {
      "cell_type": "code",
      "source": [
        "def test_with_img(img_path):\n",
        "    img = Image.open(img_path)\n",
        "    image_to_tensor = transforms.Compose([\n",
        "                transforms.Resize((INPUT_SHAPE[2], INPUT_SHAPE[3])),\n",
        "                transforms.ToTensor(),\n",
        "                ])\n",
        "\n",
        "    img_tensor = image_to_tensor(img).unsqueeze(dim=0)\n",
        "    model = DeepLabV3Plus('ResNet 50')\n",
        "    output = model(img_tensor)\n",
        "\n",
        "    tensor_to_img = transforms.ToPILImage()\n",
        "    img = tensor_to_img(output.squeeze(dim=0))\n",
        "    display(img)"
      ],
      "metadata": {
        "id": "qhp-sE4l3NmF"
      },
      "execution_count": 35,
      "outputs": []
    },
    {
      "cell_type": "code",
      "source": [
        "test_with_img(\"/content/image.jpg\")"
      ],
      "metadata": {
        "colab": {
          "base_uri": "https://localhost:8080/",
          "height": 273
        },
        "id": "YujOyYwp3WyE",
        "outputId": "defdc0ee-276f-47fe-f2d7-e53a32ed46d7"
      },
      "execution_count": 36,
      "outputs": [
        {
          "output_type": "display_data",
          "data": {
            "text/plain": [
              "<PIL.Image.Image image mode=L size=256x256>"
            ],
            "image/png": "[encoded data removed]"
          },
          "metadata": {}
        }
      ]
    },
    {
      "cell_type": "code",
      "source": [],
      "metadata": {
        "id": "AA7shHuRumK6"
      },
      "execution_count": null,
      "outputs": []
    }
  ]
}
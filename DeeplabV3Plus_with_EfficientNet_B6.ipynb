{
  "nbformat": 4,
  "nbformat_minor": 0,
  "metadata": {
    "colab": {
      "provenance": [],
      "authorship_tag": "ABX9TyMJqRMWi+EJL9roSyeq8UAc",
      "include_colab_link": true
    },
    "kernelspec": {
      "name": "python3",
      "display_name": "Python 3"
    },
    "language_info": {
      "name": "python"
    }
  },
  "cells": [
    {
      "cell_type": "markdown",
      "metadata": {
        "id": "view-in-github",
        "colab_type": "text"
      },
      "source": [
        "<a href=\"https://colab.research.google.com/github/iN8mare/DeepLabV3Plus_different_encoders_pytorch/blob/main/DeeplabV3Plus_with_EfficientNet_B6.ipynb\" target=\"_parent\"><img src=\"https://colab.research.google.com/assets/colab-badge.svg\" alt=\"Open In Colab\"/></a>"
      ]
    },
    {
      "cell_type": "code",
      "source": [
        "import torch\n",
        "import torchvision\n",
        "import torch.nn as nn\n",
        "from torch.nn import Conv2d, BatchNorm2d, ReLU, AvgPool2d, UpsamplingBilinear2d, Sigmoid\n",
        "from PIL import Image\n",
        "from torchvision import transforms\n",
        "import torchsummary"
      ],
      "metadata": {
        "id": "vP3BvsFx49M1"
      },
      "execution_count": 40,
      "outputs": []
    },
    {
      "cell_type": "code",
      "source": [
        "ENCODERS = {\n",
        "    #\"ResNet 50\" : torchvision.models.resnet50(weights=torchvision.models.ResNet50_Weights.IMAGENET1K_V2),\n",
        "    \"EfficientNet B6\" : torchvision.models.efficientnet_b6()\n",
        "}\n",
        "\n",
        "INPUT_SHAPE = (1, 3, 528, 528) # only tensors of shape (3, 528, 528) should be provided, EfficientNet B6 works best with this size (mentioned in official paper)"
      ],
      "metadata": {
        "id": "PTwMW_NL3LaP"
      },
      "execution_count": 50,
      "outputs": []
    },
    {
      "cell_type": "code",
      "execution_count": 60,
      "metadata": {
        "id": "6m3EhEqcyY8n"
      },
      "outputs": [],
      "source": [
        "class DeepLabV3Plus(nn.Module):\n",
        "    def __init__(self, input_tensor, pretrained_encoder = 'EfficientNet B6'):\n",
        "        super().__init__()\n",
        "\n",
        "        self.features = {}\n",
        "        self.encoder = ENCODERS[pretrained_encoder]\n",
        "        # print([n for n, _ in self.encoder.named_children()])\n",
        "\n",
        "\n",
        "    def get_features(self, name):\n",
        "        def hook(model, input, output):\n",
        "            self.features[name] = output.detach()\n",
        "        return hook\n",
        "\n",
        "\n",
        "    def create_encoder(self, image_features):\n",
        "        '''\n",
        "        Creates the entire encoder of our model\n",
        "        image_features : Tensor -> The high level features extracted via hooks from EfficientNet B6\n",
        "        '''\n",
        "        y_1 = Conv2d(image_features.shape[1], 256, kernel_size = 1, padding = 'same', dilation = 1, bias = False)(image_features)\n",
        "        y_1 = BatchNorm2d(256)(y_1)\n",
        "        y_1 = ReLU(inplace=True)(y_1)\n",
        "        # print(y_1.shape)\n",
        "\n",
        "        y_6 = Conv2d(image_features.shape[1], 256, kernel_size = 3, padding = 'same', dilation = 6, bias = False)(image_features)\n",
        "        y_6 = BatchNorm2d(256)(y_6)\n",
        "        y_6 = ReLU(inplace=True)(y_6)\n",
        "        # print(y_6.shape)\n",
        "\n",
        "        y_12 = Conv2d(image_features.shape[1], 256, kernel_size = 3, padding = 'same', dilation = 12, bias = False)(image_features)\n",
        "        y_12 = BatchNorm2d(256)(y_12)\n",
        "        y_12 = ReLU(inplace=True)(y_12)\n",
        "        # print(y_12.shape)\n",
        "\n",
        "        y_18 = Conv2d(image_features.shape[1], 256, kernel_size = 3, padding = 'same', dilation = 18, bias = False)(image_features)\n",
        "        y_18 = BatchNorm2d(256)(y_18)\n",
        "        y_18 = ReLU(inplace=True)(y_18)\n",
        "        # print(y_18.shape)\n",
        "\n",
        "        y_pool = AvgPool2d(kernel_size = (image_features.shape[2], image_features.shape[3]))(image_features)\n",
        "        y_pool = Conv2d(image_features.shape[1], 256, kernel_size = 1, padding = 'same', dilation = 1, bias = False)(y_pool)\n",
        "        y_pool = ReLU(inplace=True)(y_pool)\n",
        "        y_pool = UpsamplingBilinear2d((image_features.shape[2], image_features.shape[3]))(y_pool)\n",
        "        # print(y_pool.shape)\n",
        "\n",
        "        y_concatenated = torch.cat([y_1, y_6, y_12, y_18, y_pool], dim=1)\n",
        "        # print(y_concatenated.shape)\n",
        "\n",
        "        y_concatenated = Conv2d(y_concatenated.shape[1], 256, kernel_size = 1, padding = 'same', dilation = 1, bias = False)(y_concatenated)\n",
        "        y_concatenated = BatchNorm2d(256)(y_concatenated)\n",
        "        y_concatenated = ReLU(inplace=True)(y_concatenated)\n",
        "        y_concatenated = UpsamplingBilinear2d((y_concatenated.shape[2]*4 - 2, y_concatenated.shape[3]*4 - 2))(y_concatenated)\n",
        "        # print(y_concatenated.shape)\n",
        "\n",
        "        return y_concatenated\n",
        "\n",
        "\n",
        "    def create_decoder(self, low_features, encoder_output):\n",
        "        '''\n",
        "        Creates the decoder part of our model.\n",
        "        low features : Tensor -> the low level features extracted via hooks from EfficientNet B6\n",
        "        encoder_output : Tensor -> will be concatenated with low level features (refer diagram in README)\n",
        "        '''\n",
        "        # print(\"encoder\")\n",
        "\n",
        "        x = Conv2d(low_features.shape[1], 128, kernel_size = 1, padding = 'same', dilation = 1, bias = False)(low_features)\n",
        "        x = BatchNorm2d(128)(x)\n",
        "        x = ReLU(inplace=True)(x)\n",
        "        # print(x.shape)\n",
        "\n",
        "        y_concat = torch.cat([x, encoder_output], dim=1)\n",
        "        # print(y_concat.shape)\n",
        "\n",
        "        x = Conv2d(y_concat.shape[1], 256, kernel_size = 3, padding = 'same', dilation = 1, bias = False)(y_concat)\n",
        "        x = BatchNorm2d(256)(x)\n",
        "        x = ReLU(inplace=True)(x)\n",
        "        # print(x.shape)\n",
        "\n",
        "        x = UpsamplingBilinear2d((x.shape[2]*4, x.shape[3]*4))(x)\n",
        "        x = Conv2d(x.shape[1], 1, kernel_size = 1, padding = 'same', dilation = 1, bias = False)(x)\n",
        "        x = Sigmoid()(x)\n",
        "        # print(x.shape)\n",
        "\n",
        "        return x\n",
        "\n",
        "\n",
        "    def forward(self, input):\n",
        "        self.encoder.features[7].register_forward_hook(self.get_features('deep_features')) # hook to extract high level features\n",
        "        self.encoder.features[3].register_forward_hook(self.get_features('low_features'))  # hook to extract low level features\n",
        "        self.encoder(input)\n",
        "        encoder_output = self.create_encoder(self.features['deep_features'])\n",
        "        final_output = self.create_decoder(self.features['low_features'], encoder_output)\n",
        "        return final_output"
      ]
    },
    {
      "cell_type": "code",
      "source": [
        "a = DeepLabV3Plus('EfficientNet B6')\n",
        "print(a(torch.randn(INPUT_SHAPE))) # providing a random tensor of INPUT_SHAPE"
      ],
      "metadata": {
        "colab": {
          "base_uri": "https://localhost:8080/"
        },
        "id": "uY9Km58g1yCR",
        "outputId": "37e26fcc-5b66-4858-b380-0ee0eaf6f731"
      },
      "execution_count": 64,
      "outputs": [
        {
          "output_type": "stream",
          "name": "stdout",
          "text": [
            "tensor([[[[0.6414, 0.6349, 0.6284,  ..., 0.6303, 0.6535, 0.6759],\n",
            "          [0.6173, 0.6187, 0.6201,  ..., 0.6361, 0.6614, 0.6859],\n",
            "          [0.5926, 0.6022, 0.6117,  ..., 0.6419, 0.6693, 0.6956],\n",
            "          ...,\n",
            "          [0.6199, 0.6233, 0.6267,  ..., 0.5609, 0.5622, 0.5635],\n",
            "          [0.6111, 0.6191, 0.6269,  ..., 0.5502, 0.5562, 0.5623],\n",
            "          [0.6023, 0.6148, 0.6271,  ..., 0.5394, 0.5502, 0.5610]]]],\n",
            "       grad_fn=<SigmoidBackward0>)\n"
          ]
        }
      ]
    },
    {
      "cell_type": "code",
      "source": [
        "def test_with_img(img_path):\n",
        "    img = Image.open(img_path)\n",
        "    image_to_tensor = transforms.Compose([\n",
        "                transforms.Resize((INPUT_SHAPE[2], INPUT_SHAPE[3])),\n",
        "                transforms.ToTensor(),\n",
        "                ])\n",
        "\n",
        "    img_tensor = image_to_tensor(img).unsqueeze(dim=0)\n",
        "    model = DeepLabV3Plus('EfficientNet B6')\n",
        "    output = model(img_tensor)\n",
        "\n",
        "    tensor_to_img = transforms.ToPILImage()\n",
        "    img = tensor_to_img(output.squeeze(dim=0))\n",
        "    display(img)"
      ],
      "metadata": {
        "id": "aj5crQX0zVDO"
      },
      "execution_count": 61,
      "outputs": []
    },
    {
      "cell_type": "code",
      "source": [
        "test_with_img(\"/content/image.jpg\")"
      ],
      "metadata": {
        "colab": {
          "base_uri": "https://localhost:8080/",
          "height": 281
        },
        "id": "1-TF82Xp0J3T",
        "outputId": "b7259719-c394-4214-ce91-a92f2efd5c79"
      },
      "execution_count": 63,
      "outputs": [
        {
          "output_type": "display_data",
          "data": {
            "text/plain": [
              "<PIL.Image.Image image mode=L size=264x264>"
            ],
            "image/png": "[encoded data removed]"
          },
          "metadata": {}
        }
      ]
    }
  ]
}